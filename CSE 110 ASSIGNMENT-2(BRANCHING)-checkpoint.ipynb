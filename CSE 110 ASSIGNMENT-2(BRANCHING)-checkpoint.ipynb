{
 "cells": [
  {
   "cell_type": "code",
   "execution_count": 3,
   "id": "905b59a8",
   "metadata": {},
   "outputs": [
    {
     "name": "stdout",
     "output_type": "stream",
     "text": [
      "Enter the first number:\n",
      "4\n",
      "Enter the second number:\n",
      "5\n",
      "Sum = 9\n",
      "Product = 20\n",
      "Difference = -1\n"
     ]
    }
   ],
   "source": [
    "#1\n",
    "num_1 = int(input(\"Enter the first number:\\n\"))\n",
    "\n",
    "num_2 = int(input(\"Enter the second number:\\n\"))\n",
    "\n",
    "print(\"Sum =\",num_1+num_2)\n",
    "\n",
    "print(\"Product =\",num_1*num_2)\n",
    "\n",
    "print(\"Difference =\",num_1-num_2)\n"
   ]
  },
  {
   "cell_type": "code",
   "execution_count": 7,
   "id": "513b4cc9",
   "metadata": {},
   "outputs": [
    {
     "name": "stdout",
     "output_type": "stream",
     "text": [
      "Enter the radius of the circle:\n",
      "4\n",
      "Area is 50.26548245743669 \n",
      "\n",
      "Circumference is 25.132741228718345\n"
     ]
    }
   ],
   "source": [
    "#2\n",
    "\n",
    "import math\n",
    "\n",
    "radius =float(input(\"Enter the radius of the circle:\\n\"))\n",
    "\n",
    "circumference = 2*math.pi*radius\n",
    "\n",
    "area = math.pi*math.pow(radius,2)\n",
    "\n",
    "\n",
    "print(\"Area is\",area,\"\\n\")\n",
    "\n",
    "print(\"Circumference is\",circumference)"
   ]
  },
  {
   "cell_type": "code",
   "execution_count": 11,
   "id": "be0d58a9",
   "metadata": {},
   "outputs": [
    {
     "name": "stdout",
     "output_type": "stream",
     "text": [
      "Enter the first number:0\n",
      "Enterr the second number:-0\n",
      "The numbers are equal\n"
     ]
    }
   ],
   "source": [
    "#3\n",
    "\n",
    "first_number =int (input(\"Enter the first number:\"))\n",
    "\n",
    "second_number =int(input(\"Enterr the second number:\"))\n",
    "\n",
    "if first_number>second_number:\n",
    "    \n",
    "    print(\"First is greater.\")\n",
    "    \n",
    "elif second_number>first_number:\n",
    "    \n",
    "    print(\"Second is greater.\")\n",
    "    \n",
    "else:\n",
    "    print(\"The numbers are equal\")"
   ]
  },
  {
   "cell_type": "code",
   "execution_count": 2,
   "id": "ae2c8aca",
   "metadata": {},
   "outputs": [
    {
     "name": "stdout",
     "output_type": "stream",
     "text": [
      "Enter the first number:5\n",
      "Enterr the second number:5\n",
      "0\n"
     ]
    }
   ],
   "source": [
    "#4\n",
    "first_number =int (input(\"Enter the first number:\"))\n",
    "\n",
    "second_number =int(input(\"Enterr the second number:\"))\n",
    "\n",
    "if first_number>second_number:\n",
    "    \n",
    "    print(first_number-second_number)\n",
    "    \n",
    "else:\n",
    "    \n",
    "    print(second_number-first_number)\n",
    "\n",
    "\n",
    "\n"
   ]
  },
  {
   "cell_type": "code",
   "execution_count": 14,
   "id": "baaecf7e",
   "metadata": {},
   "outputs": [
    {
     "name": "stdout",
     "output_type": "stream",
     "text": [
      "Enter the first number:10\n",
      "The number is even\n"
     ]
    }
   ],
   "source": [
    "#5\n",
    "first_number =int (input(\"Enter the first number:\"))\n",
    "\n",
    "# second_number =int(input(\"Enterr the second number:\"))\n",
    "\n",
    "if first_number%2==0:\n",
    "    \n",
    "    print(\"The number is even\")\n",
    "    \n",
    "else:\n",
    "    print(\"The number is odd\")\n"
   ]
  },
  {
   "cell_type": "code",
   "execution_count": 18,
   "id": "4c0867e6",
   "metadata": {},
   "outputs": [
    {
     "name": "stdout",
     "output_type": "stream",
     "text": [
      "Enter the integer:\n",
      "3\n",
      "Not a multiple of 2 OR 5\n"
     ]
    }
   ],
   "source": [
    "#6\n",
    "\n",
    "integer = int(input(\"Enter the integer:\\n\"))\n",
    "\n",
    "if integer%2==0 or integer%5==0:\n",
    "    \n",
    "    print(integer)\n",
    "else:\n",
    "    print(\"Not a multiple of 2 OR 5\")\n"
   ]
  },
  {
   "cell_type": "code",
   "execution_count": 1,
   "id": "f81c6e84",
   "metadata": {},
   "outputs": [
    {
     "name": "stdout",
     "output_type": "stream",
     "text": [
      "Enter the integer:5\n",
      "5\n"
     ]
    }
   ],
   "source": [
    "#7\n",
    "integer = int(input((\"Enter the integer:\")))\n",
    "              \n",
    "if integer%2==0 and integer%5==0:\n",
    "    \n",
    "    print(\"Multiple of 2 and 5 both\")\n",
    "    \n",
    "elif (integer%2==0 and integer%5!=0) or (integer%2!=0 and integer%5==0):\n",
    "    \n",
    "    print(integer)\n",
    "    \n",
    "else:\n",
    "    \n",
    "    print(\"Not a multiple we want\")"
   ]
  },
  {
   "cell_type": "code",
   "execution_count": 18,
   "id": "5871d398",
   "metadata": {},
   "outputs": [
    {
     "name": "stdout",
     "output_type": "stream",
     "text": [
      "Enter the number:6\n",
      "Not a multiple of 2 and 5.\n"
     ]
    }
   ],
   "source": [
    "#8\n",
    "\n",
    "integer =int(input(\"Enter the number:\"))\n",
    "\n",
    "if integer%2==0 and integer%5==0:\n",
    "    print(integer)\n",
    "    \n",
    "else:\n",
    "    print(\"Not a multiple of 2 and 5.\")"
   ]
  },
  {
   "cell_type": "code",
   "execution_count": 23,
   "id": "af0b3e82",
   "metadata": {},
   "outputs": [
    {
     "name": "stdout",
     "output_type": "stream",
     "text": [
      "Enter the number of seconds :500\n",
      "Hours:0 Minutes:8 Seconds:20\n"
     ]
    }
   ],
   "source": [
    "#9\n",
    "\n",
    "seconds =int(input(\"Enter the number of seconds :\"))\n",
    "\n",
    "hours = seconds//3600       #vejal hoisilo akhane |mod |dia korsilam pothome\n",
    "\n",
    "remaining_seconds = seconds -(hours*3600)\n",
    "\n",
    "minutes =remaining_seconds//60\n",
    "\n",
    "remaining_seconds =remaining_seconds-(minutes*60)\n",
    "\n",
    "print(f\"Hours:{hours} Minutes:{minutes} Seconds:{remaining_seconds}\")"
   ]
  },
  {
   "cell_type": "code",
   "execution_count": 3,
   "id": "c2f0889a",
   "metadata": {},
   "outputs": [
    {
     "name": "stdout",
     "output_type": "stream",
     "text": [
      "Enter the number of hours:\n",
      "30\n",
      "6000\n"
     ]
    }
   ],
   "source": [
    "\n",
    "#10\n",
    "hours = int(input(\"Enter the number of hours:\\n\"))\n",
    "\n",
    "import math\n",
    "\n",
    "if 0<=hours<=168:\n",
    "    \n",
    "    if hours<=40:\n",
    "        salary =hours*200\n",
    "        \n",
    "        print(salary)\n",
    "        \n",
    "    elif 40<hours<=168:\n",
    "        \n",
    "        extra_hours= hours-40\n",
    "        \n",
    "        salary =8000+extra_hours*300\n",
    "        \n",
    "        print(salary)\n",
    "        \n",
    "        \n",
    "\n",
    "elif hours<0:\n",
    "    print(\"Hours can not be negative\")\n",
    "    \n",
    "else:\n",
    "    print(\"Impossible to work more than 168 hours weekly\")\n",
    "    \n",
    "    \n",
    "            "
   ]
  },
  {
   "cell_type": "code",
   "execution_count": 4,
   "id": "c83804c2",
   "metadata": {},
   "outputs": [
    {
     "name": "stdout",
     "output_type": "stream",
     "text": [
      "Enter the value of S120\n",
      "2416.2162162162163\n"
     ]
    }
   ],
   "source": [
    "#11\n",
    "\n",
    "import math\n",
    "\n",
    "S = int(input(\"Enter the value of S\"))\n",
    "\n",
    "if S<100:\n",
    "\n",
    "    L = 3000-125*(math.pow(S,2))\n",
    "    \n",
    "    print(L)\n",
    "    \n",
    "elif S>=100:\n",
    "    \n",
    "    L =12000/(4+(math.pow(S,2)/14900))\n",
    "    \n",
    "    print(L)\n",
    "    \n",
    "    \n",
    "    \n",
    "    \n",
    "    \n",
    "    \n",
    "    \n",
    "    \n",
    "    \n",
    "    \n",
    "    "
   ]
  },
  {
   "cell_type": "code",
   "execution_count": 6,
   "id": "f393bb3c",
   "metadata": {},
   "outputs": [
    {
     "name": "stdout",
     "output_type": "stream",
     "text": [
      "Enter your preferred hour:4\n",
      "Breakfast\n"
     ]
    }
   ],
   "source": [
    "#12\n",
    "\n",
    "hour = int(input(\"Enter your preferred hour:\"))\n",
    "\n",
    "if 4<=hour<=6:\n",
    "    print(\"Breakfast\")\n",
    "    \n",
    "elif 12<=hour<=13:\n",
    "    \n",
    "    print(\"Launch\")\n",
    "    \n",
    "    \n",
    "elif 16<=hour<=17:\n",
    "    \n",
    "    print(\"Snacks\")\n",
    "    \n",
    "elif 19<=hour<=20:\n",
    "    print(\"Dinner\")\n",
    "    \n",
    "elif 0<=hour<=3 or 7<=hour<=11 or 14<=hour<=15 or hour==18 or 21<=hour<=23:\n",
    "    \n",
    "    print(\"Patience is virtue\")\n",
    "    \n",
    "else:\n",
    "    print(\"Wrong time\")\n"
   ]
  },
  {
   "cell_type": "code",
   "execution_count": 1,
   "id": "5dae606b",
   "metadata": {},
   "outputs": [
    {
     "name": "stdout",
     "output_type": "stream",
     "text": [
      "Enter the mark of the student:95\n",
      "Grade: A\n"
     ]
    }
   ],
   "source": [
    "#13\n",
    "\n",
    "mark = int (input(\"Enter the mark of the student:\"))\n",
    "\n",
    "if 0<=mark<=100:\n",
    "    \n",
    "    if mark<50:\n",
    "        print(\"Grade: F\")\n",
    "        \n",
    "    elif 50<mark<59:\n",
    "        print(\"Grade: E\")\n",
    "        \n",
    "    elif 60<mark<69:\n",
    "        print(\"Grade: D\")\n",
    "        \n",
    "    elif 70<mark<79:\n",
    "        print(\"Grade: C\")\n",
    "        \n",
    "    elif 80<mark<89:\n",
    "        print(\"Grade: B\")\n",
    "        \n",
    "    else:\n",
    "        print(\"Grade: A\")\n",
    "        \n",
    "else:\n",
    "    print(\"THe mark is not valid\")"
   ]
  },
  {
   "cell_type": "code",
   "execution_count": 8,
   "id": "cacab616",
   "metadata": {},
   "outputs": [
    {
     "name": "stdout",
     "output_type": "stream",
     "text": [
      "Enter the distance the car has covered:25400\n",
      "Enter the time in seconds :3600\n",
      "25.4 km/h\n",
      "Too slow. Needs more changes.\n"
     ]
    }
   ],
   "source": [
    "#14\n",
    "distance = int(input(\"Enter the distance the car has covered:\"))\n",
    "\n",
    "time = int(input(\"Enter the time in seconds :\"))\n",
    "\n",
    "distance = distance/1000\n",
    "\n",
    "time = time/3600\n",
    "\n",
    "speed = distance/time\n",
    "\n",
    "print(speed,\"km/h\")\n",
    "\n",
    "if speed<60:\n",
    "    print(\"Too slow. Needs more changes.\")\n",
    "elif 60<=speed<=90:\n",
    "    print(\"Velocity is okay.The car is ready.\")\n",
    "    \n",
    "else:\n",
    "    print(\"Too fast. Only a few changes should suffice.\")\n"
   ]
  },
  {
   "cell_type": "code",
   "execution_count": 9,
   "id": "60abfefd",
   "metadata": {},
   "outputs": [
    {
     "name": "stdout",
     "output_type": "stream",
     "text": [
      "Enter the cgpa:3.99999999\n",
      "Enter the number of credit hours :136\n",
      "The student is eligible for waiver of 100 percent.\n"
     ]
    }
   ],
   "source": [
    "#15\n",
    "\n",
    "cgpa = float(input(\"Enter the cgpa:\"))\n",
    "\n",
    "credit = int(input(\"Enter the number of credit hours :\"))\n",
    "\n",
    "if credit<30 or cgpa <3.8:\n",
    "    print(\"The student is not eligible for a waiver\")\n",
    "    \n",
    "else:\n",
    "    \n",
    "    if 3.80<=cgpa<=3.89:\n",
    "        print(\"The student is eligible for a waiver of 25 percent.\")\n",
    "        \n",
    "    elif 3.90<=cgpa<=3.94:\n",
    "        print(\"The student is eligible for a waiver of 50 percent.\")\n",
    "        \n",
    "    elif 3.95<=cgpa<=3.99:\n",
    "        print(\"The student is eligible for a waiver of 75 percent.\")\n",
    "        \n",
    "    else:\n",
    "        print(\"The student is eligible for a waiver of 100 percent.\")\n",
    "    \n",
    "\n"
   ]
  },
  {
   "cell_type": "code",
   "execution_count": 33,
   "id": "ca2667bb",
   "metadata": {},
   "outputs": [
    {
     "name": "stdout",
     "output_type": "stream",
     "text": [
      "Enter the number :12\n",
      "No\n"
     ]
    }
   ],
   "source": [
    "#optional task 20\n",
    "\n",
    "#Task 20\n",
    "#Write the Python code of a program that reads an integer,\n",
    "#and prints the integer if it is a multiple of NEITHER 2 NOR 5.\n",
    "\n",
    "\n",
    "number = int(input(\"Enter the number :\"))\n",
    "\n",
    "# if number %2 == 0 or number %5==0:\n",
    "#     print(\"No\")\n",
    "    \n",
    "# else:\n",
    "#     print(number)\n",
    "\n",
    "\n",
    "if number%2!=0 and number%5!=0:\n",
    "    print(number)\n",
    "    \n",
    "else:\n",
    "    print(\"No\")"
   ]
  },
  {
   "cell_type": "code",
   "execution_count": 25,
   "id": "a46b09e4",
   "metadata": {},
   "outputs": [
    {
     "name": "stdout",
     "output_type": "stream",
     "text": [
      "Enter the number:3\n",
      "3\n"
     ]
    }
   ],
   "source": [
    "#optional task 21\n",
    "#Write the Python code of a program that reads an integer, \n",
    "#and prints the integer if it is NOT a multiple of 2 OR NOT a multiple of 5.\n",
    "\n",
    "number = int (input(\"Enter the number:\"))\n",
    "\n",
    "if number%2!=0 or number%5!=0:\n",
    "    print(number)\n",
    "else :\n",
    "    print(\"No\")\n",
    "\n"
   ]
  },
  {
   "cell_type": "code",
   "execution_count": null,
   "id": "88f1cef2",
   "metadata": {},
   "outputs": [],
   "source": []
  },
  {
   "cell_type": "code",
   "execution_count": null,
   "id": "add5e28b",
   "metadata": {},
   "outputs": [],
   "source": []
  }
 ],
 "metadata": {
  "kernelspec": {
   "display_name": "Python 3",
   "language": "python",
   "name": "python3"
  },
  "language_info": {
   "codemirror_mode": {
    "name": "ipython",
    "version": 3
   },
   "file_extension": ".py",
   "mimetype": "text/x-python",
   "name": "python",
   "nbconvert_exporter": "python",
   "pygments_lexer": "ipython3",
   "version": "3.8.8"
  }
 },
 "nbformat": 4,
 "nbformat_minor": 5
}
