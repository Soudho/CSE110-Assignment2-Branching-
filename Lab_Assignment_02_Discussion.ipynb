{
  "cells": [
    {
      "cell_type": "markdown",
      "id": "bc0b8cfd",
      "metadata": {
        "id": "bc0b8cfd"
      },
      "source": [
        "Task - 01\n",
        "\n",
        "    # function_name(num1, num2)\n",
        "    # float division - floor division"
      ]
    },
    {
      "cell_type": "markdown",
      "id": "cca17bbd",
      "metadata": {
        "id": "cca17bbd"
      },
      "source": [
        "Task - 02\n",
        "\n",
        "    # function_name(height, weight)\n",
        "    # bmi = kg/m**2 = kg/(m*m) = kg/pow(m,2)\n",
        "    # Constraints\n",
        "        < 18.5- Underweight\n",
        "        18.5 - 24.9 - Normal\n",
        "        25 -30 - Overweight\n",
        "        > 30 – Obese"
      ]
    },
    {
      "cell_type": "markdown",
      "id": "e09f7b42",
      "metadata": {
        "id": "e09f7b42"
      },
      "source": [
        "Task - 03\n",
        "\n",
        "    # function_name(min, max, div)\n",
        "    # range() or %"
      ]
    },
    {
      "cell_type": "markdown",
      "id": "a21b7b77",
      "metadata": {
        "id": "a21b7b77"
      },
      "source": [
        "Task - 04\n",
        "\n",
        "    # function_name(burger_name, location=\"Mohakhali\")\n",
        "    # total_price = meal_cost + delivery_charge + tax\n",
        "    # delivery_cost\n",
        "        40 : \"Mohakhali\"\n",
        "        60 : else\n",
        "    # 8% tax = 0.08 * meal_cost"
      ]
    },
    {
      "cell_type": "markdown",
      "id": "a7d923de",
      "metadata": {
        "id": "a7d923de"
      },
      "source": [
        "Task - 05\n",
        "    \n",
        "    # function_name(email, new, old=\"kaaj.com\")\n",
        "    # changed : email domain == old\n",
        "    # unchanged : email domain == new"
      ]
    },
    {
      "cell_type": "markdown",
      "id": "af2dfdf6",
      "metadata": {
        "id": "af2dfdf6"
      },
      "source": [
        "Task - 06\n",
        "\n",
        "    # function_name(full_name)\n",
        "    # ch in [\"a\", \"e\", \"i\", \"o\", \"u\"]\n",
        "    or, ch in \"aeiou\"\n",
        "    or, ord(ch) in [97, 101, 105, 111, 117]\n",
        "    or, full_name.count(vowel)\n",
        "    or, {\"a\": 0, \"e\": 0, \"i\": 0, \"o\": 0, \"u\": 0}"
      ]
    },
    {
      "cell_type": "markdown",
      "id": "5646dfb1",
      "metadata": {
        "id": "5646dfb1"
      },
      "source": [
        "Task - 07\n",
        "\n",
        "    # function_name(input_string)\n",
        "    # input_string\n",
        "        - even-length \n",
        "        - odd-length\n",
        "    # split into half -> reverse the second half\n",
        "    or, keep forward and backward index (i<j)"
      ]
    },
    {
      "cell_type": "markdown",
      "id": "4aa98b08",
      "metadata": {
        "id": "4aa98b08"
      },
      "source": [
        "Task - 08\n",
        "\n",
        "    # function_name(total_number_of_days)\n",
        "    # 1 year = 365 days\n",
        "    # 1 month = 30 days\n",
        "    # remaining days = total_number_of_days - y * 365 - m * 30"
      ]
    },
    {
      "cell_type": "markdown",
      "id": "3465ab6f",
      "metadata": {
        "id": "3465ab6f"
      },
      "source": [
        "Task - 09\n",
        "\n",
        "    # function_name(paragraph)\n",
        "    # first letter -> index 0\n",
        "    # punctuation_marks = [\".\", \"!\", \"?\"]\n",
        "    # first letter after punctuation_marks\n",
        "        got_punctuation = False, initially\n",
        "        got_punctuation = True , loop count (j)\n",
        "        space                    loop count (j+1)\n",
        "        got_punctuation = False, loop count (j+2)\n",
        "    # character \"i\"\n",
        "        first -> index 0\n",
        "        middle -> (index-1): space and (index+1): space"
      ]
    }
  ],
  "metadata": {
    "kernelspec": {
      "display_name": "Python 3",
      "language": "python",
      "name": "python3"
    },
    "language_info": {
      "codemirror_mode": {
        "name": "ipython",
        "version": 3
      },
      "file_extension": ".py",
      "mimetype": "text/x-python",
      "name": "python",
      "nbconvert_exporter": "python",
      "pygments_lexer": "ipython3",
      "version": "3.8.8"
    },
    "colab": {
      "provenance": []
    }
  },
  "nbformat": 4,
  "nbformat_minor": 5
}