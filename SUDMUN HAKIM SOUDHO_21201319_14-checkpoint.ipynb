{
 "cells": [
  {
   "cell_type": "code",
   "execution_count": null,
   "id": "cd92366d",
   "metadata": {},
   "outputs": [],
   "source": [
    "t1=0\n",
    "t2=0\n",
    "t3=0\n",
    "dict1={}\n",
    "Babar=int(input(\"enter the range:\"))\n",
    "for i in range(Babar):\n",
    "    run=int(input(\"enter the babar run\"))\n",
    "    t1+=run\n",
    "Kohli=int(input(\"enter the range:\"))\n",
    "for i in range(Kohli):\n",
    "    run=int(input(\"enter the kohli run\"))\n",
    "    t2+=run\n",
    "Sakib=int(input(\"enter the range:\"))\n",
    "for i in range(Sakib):\n",
    "    run=int(input(\"enter the sakib run\"))\n",
    "    t3+=run\n",
    "average_babar=(t1//Babar)\n",
    "average_kohli=(t2//Kohli)\n",
    "average_sakib=(t3//Sakib)\n",
    "name1=input()\n",
    "name2=input()\n",
    "name3=input()\n",
    "dict1.name1=average_babar\n",
    "dict1.name2=average_kohli\n",
    "dict1.name3=average_sakib\n",
    "print(dict1)"
   ]
  }
 ],
 "metadata": {
  "kernelspec": {
   "display_name": "Python 3",
   "language": "python",
   "name": "python3"
  },
  "language_info": {
   "codemirror_mode": {
    "name": "ipython",
    "version": 3
   },
   "file_extension": ".py",
   "mimetype": "text/x-python",
   "name": "python",
   "nbconvert_exporter": "python",
   "pygments_lexer": "ipython3",
   "version": "3.8.8"
  }
 },
 "nbformat": 4,
 "nbformat_minor": 5
}
